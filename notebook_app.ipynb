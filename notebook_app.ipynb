{
 "metadata": {
  "kernelspec": {
   "display_name": "Streamlit Notebook",
   "name": "streamlit"
  }
 },
 "nbformat_minor": 5,
 "nbformat": 4,
 "cells": [
  {
   "cell_type": "code",
   "id": "8d50cbf4-0c8d-4950-86cb-114990437ac9",
   "metadata": {
    "language": "sql",
    "name": "cell2"
   },
   "source": "CREATE WAREHOUSE GIT_WHWH WITH \n  WAREHOUSE_SIZE = XSmall \n  INITIALLY_SUSPENDED = true;\n\nUSE WAREHOUSE GIT_WHWH;",
   "execution_count": null,
   "outputs": []
  },
  {
   "cell_type": "code",
   "id": "eab31fe3-6c0f-4e59-a9ae-4132573d74ef",
   "metadata": {
    "language": "sql",
    "name": "cell1"
   },
   "outputs": [],
   "source": "CREATE OR REPLACE DATABASE GIT_week7_db;\n\nUSE DATABASE GIT_week7_db;",
   "execution_count": null
  },
  {
   "cell_type": "code",
   "id": "9b2154b0-4331-49a9-ba97-59b3f273bc38",
   "metadata": {
    "language": "sql",
    "name": "cell3"
   },
   "outputs": [],
   "source": "CREATE OR REPLACE SCHEMA GIT_week7_schema;\n\nUSE SCHEMA GIT_week7_schema;",
   "execution_count": null
  }
 ]
}